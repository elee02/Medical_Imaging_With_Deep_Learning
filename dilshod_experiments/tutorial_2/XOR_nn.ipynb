{
 "cells": [
  {
   "cell_type": "code",
   "execution_count": 2,
   "metadata": {},
   "outputs": [],
   "source": [
    "import torch\n",
    "import torch.nn as nn\n",
    "import torch.nn.functional as F"
   ]
  },
  {
   "cell_type": "markdown",
   "metadata": {},
   "source": [
    "### Simple Classifier for XOR"
   ]
  },
  {
   "cell_type": "code",
   "execution_count": 3,
   "metadata": {},
   "outputs": [],
   "source": [
    "class SimpleClassifier(nn.Module):\n",
    "\n",
    "    def __init__(self, num_inputs, num_hidden, num_outputs):\n",
    "        # call initializer(constructor) of the nn.Module class\n",
    "        super().__init__()\n",
    "\n",
    "        # create the first linear layer of the network\n",
    "        # applied transformation: y = xA^T + b\n",
    "        # x - input, A - weight matrix, b - bias, y - output\n",
    "        self.linear1 = nn.Linear(num_inputs, num_hidden)\n",
    "\n",
    "        # create the second linear layer of the network\n",
    "        # similar linear transformation is applied \n",
    "        self.linear2 = nn.Linear(num_hidden, num_outputs)\n",
    "\n",
    "        # implement the activation function using nn.Tanh\n",
    "        self.act_fn = nn.Tanh()\n",
    "\n",
    "        \n",
    "    def forward(self, x):\n",
    "        # Perform the calculation of the model to determine the prediction\n",
    "\n",
    "        x = self.linear1(x)\n",
    "        x = self.act_fn(x)\n",
    "        x = self.linear2(x)\n",
    "\n",
    "        return x\n"
   ]
  },
  {
   "cell_type": "code",
   "execution_count": 4,
   "metadata": {},
   "outputs": [
    {
     "name": "stdout",
     "output_type": "stream",
     "text": [
      "SimpleClassifier(\n",
      "  (linear1): Linear(in_features=2, out_features=4, bias=True)\n",
      "  (linear2): Linear(in_features=4, out_features=1, bias=True)\n",
      "  (act_fn): Tanh()\n",
      ")\n"
     ]
    }
   ],
   "source": [
    "model = SimpleClassifier(num_inputs = 2, num_hidden = 4, num_outputs = 1)\n",
    "# Printing a module shows all its submodules\n",
    "print(model)"
   ]
  },
  {
   "cell_type": "code",
   "execution_count": 13,
   "metadata": {},
   "outputs": [
    {
     "name": "stdout",
     "output_type": "stream",
     "text": [
      "Shape: torch.Size([4, 2])\n",
      "Parameter containing:\n",
      "tensor([[ 0.4806,  0.6963],\n",
      "        [ 0.6889,  0.6176],\n",
      "        [ 0.3426, -0.1548],\n",
      "        [ 0.4930, -0.6682]], requires_grad=True)\n",
      "\n",
      "Shape: torch.Size([4])\n",
      "Parameter containing:\n",
      "tensor([ 0.5975,  0.2445, -0.5151, -0.7012], requires_grad=True)\n",
      "\n",
      "Shape: torch.Size([1, 4])\n",
      "Parameter containing:\n",
      "tensor([[0.4025, 0.0348, 0.4953, 0.3293]], requires_grad=True)\n",
      "\n",
      "Shape: torch.Size([1])\n",
      "Parameter containing:\n",
      "tensor([0.3301], requires_grad=True)\n",
      "\n"
     ]
    }
   ],
   "source": [
    "# Obtain the parameters of the model with parameter() function\n",
    "for parameter in model.parameters():\n",
    "    print(f'Shape: {parameter.shape}\\n{parameter}\\n')"
   ]
  },
  {
   "cell_type": "code",
   "execution_count": 15,
   "metadata": {},
   "outputs": [
    {
     "name": "stdout",
     "output_type": "stream",
     "text": [
      "Parameter: linear1.weight\n",
      "Shape: torch.Size([4, 2])\n",
      "\n",
      "Parameter: linear1.bias\n",
      "Shape: torch.Size([4])\n",
      "\n",
      "Parameter: linear2.weight\n",
      "Shape: torch.Size([1, 4])\n",
      "\n",
      "Parameter: linear2.bias\n",
      "Shape: torch.Size([1])\n",
      "\n"
     ]
    }
   ],
   "source": [
    "# Obtain a name to each parameter object with named_parameters\n",
    "for name, parameter in model.named_parameters():\n",
    "    print(f'Parameter: {name}\\nShape: {parameter.shape}\\n')"
   ]
  },
  {
   "cell_type": "code",
   "execution_count": null,
   "metadata": {},
   "outputs": [],
   "source": []
  }
 ],
 "metadata": {
  "kernelspec": {
   "display_name": "Python 3",
   "language": "python",
   "name": "python3"
  },
  "language_info": {
   "codemirror_mode": {
    "name": "ipython",
    "version": 3
   },
   "file_extension": ".py",
   "mimetype": "text/x-python",
   "name": "python",
   "nbconvert_exporter": "python",
   "pygments_lexer": "ipython3",
   "version": "3.11.4"
  }
 },
 "nbformat": 4,
 "nbformat_minor": 2
}
