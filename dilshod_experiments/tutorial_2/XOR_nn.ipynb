{
 "cells": [
  {
   "cell_type": "code",
   "execution_count": 3,
   "metadata": {},
   "outputs": [],
   "source": [
    "import torch\n",
    "import torch.nn as nn\n",
    "import torch.nn.functional as F\n",
    "import torch.utils.data as data"
   ]
  },
  {
   "cell_type": "markdown",
   "metadata": {},
   "source": [
    "### Simple Classifier"
   ]
  },
  {
   "cell_type": "code",
   "execution_count": 3,
   "metadata": {},
   "outputs": [],
   "source": [
    "class SimpleClassifier(nn.Module):\n",
    "\n",
    "    def __init__(self, num_inputs, num_hidden, num_outputs):\n",
    "        # call initializer(constructor) of the nn.Module class\n",
    "        super().__init__()\n",
    "\n",
    "        # create the first linear layer of the network\n",
    "        # applied transformation: y = xA^T + b\n",
    "        # x - input, A - weight matrix, b - bias, y - output\n",
    "        self.linear1 = nn.Linear(num_inputs, num_hidden)\n",
    "\n",
    "        # create the second linear layer of the network\n",
    "        # similar linear transformation is applied \n",
    "        self.linear2 = nn.Linear(num_hidden, num_outputs)\n",
    "\n",
    "        # implement the activation function using nn.Tanh\n",
    "        self.act_fn = nn.Tanh()\n",
    "\n",
    "        \n",
    "    def forward(self, x):\n",
    "        # Perform the calculation of the model to determine the prediction\n",
    "\n",
    "        x = self.linear1(x)\n",
    "        x = self.act_fn(x)\n",
    "        x = self.linear2(x)\n",
    "\n",
    "        return x\n"
   ]
  },
  {
   "cell_type": "code",
   "execution_count": 4,
   "metadata": {},
   "outputs": [
    {
     "name": "stdout",
     "output_type": "stream",
     "text": [
      "SimpleClassifier(\n",
      "  (linear1): Linear(in_features=2, out_features=4, bias=True)\n",
      "  (linear2): Linear(in_features=4, out_features=1, bias=True)\n",
      "  (act_fn): Tanh()\n",
      ")\n"
     ]
    }
   ],
   "source": [
    "model = SimpleClassifier(num_inputs = 2, num_hidden = 4, num_outputs = 1)\n",
    "# Printing a module shows all its submodules\n",
    "print(model)"
   ]
  },
  {
   "cell_type": "code",
   "execution_count": 13,
   "metadata": {},
   "outputs": [
    {
     "name": "stdout",
     "output_type": "stream",
     "text": [
      "Shape: torch.Size([4, 2])\n",
      "Parameter containing:\n",
      "tensor([[ 0.4806,  0.6963],\n",
      "        [ 0.6889,  0.6176],\n",
      "        [ 0.3426, -0.1548],\n",
      "        [ 0.4930, -0.6682]], requires_grad=True)\n",
      "\n",
      "Shape: torch.Size([4])\n",
      "Parameter containing:\n",
      "tensor([ 0.5975,  0.2445, -0.5151, -0.7012], requires_grad=True)\n",
      "\n",
      "Shape: torch.Size([1, 4])\n",
      "Parameter containing:\n",
      "tensor([[0.4025, 0.0348, 0.4953, 0.3293]], requires_grad=True)\n",
      "\n",
      "Shape: torch.Size([1])\n",
      "Parameter containing:\n",
      "tensor([0.3301], requires_grad=True)\n",
      "\n"
     ]
    }
   ],
   "source": [
    "# Obtain the parameters of the model with parameter() function\n",
    "for parameter in model.parameters():\n",
    "    print(f'Shape: {parameter.shape}\\n{parameter}\\n')"
   ]
  },
  {
   "cell_type": "code",
   "execution_count": 15,
   "metadata": {},
   "outputs": [
    {
     "name": "stdout",
     "output_type": "stream",
     "text": [
      "Parameter: linear1.weight\n",
      "Shape: torch.Size([4, 2])\n",
      "\n",
      "Parameter: linear1.bias\n",
      "Shape: torch.Size([4])\n",
      "\n",
      "Parameter: linear2.weight\n",
      "Shape: torch.Size([1, 4])\n",
      "\n",
      "Parameter: linear2.bias\n",
      "Shape: torch.Size([1])\n",
      "\n"
     ]
    }
   ],
   "source": [
    "# Obtain a name to each parameter object with named_parameters\n",
    "for name, parameter in model.named_parameters():\n",
    "    print(f'Parameter: {name}\\nShape: {parameter.shape}\\n')"
   ]
  },
  {
   "cell_type": "markdown",
   "metadata": {},
   "source": [
    "- **Linear Layer:** Each linear layer has a weight matrix of the shape `[output, input]`, and a bias of the shape `[output]`.\n",
    "- **Activation Function (`tanh`):** This function does not have any parameters."
   ]
  },
  {
   "cell_type": "markdown",
   "metadata": {},
   "source": [
    "### The Data Loader"
   ]
  },
  {
   "cell_type": "code",
   "execution_count": 6,
   "metadata": {},
   "outputs": [],
   "source": [
    "class XORDataset(data.Dataset):\n",
    "\n",
    "    def __init__(self, size, std=0.1):\n",
    "        \"\"\"\n",
    "        Inputs:\n",
    "            size - Number of data points we want to generate\n",
    "            std - Standard deviation of the noise (see generate_continuous_xor function)\n",
    "        \"\"\"\n",
    "        super().__init__()\n",
    "        self.size = size\n",
    "        self.std = std\n",
    "        self.generate_continious_xor()\n",
    "\n",
    "    def generate_continious_xor(self):\n",
    "        # Each data point in the XOR dataset has two variables, x and y, that can be either 0 or 1\n",
    "        # The label is their XOR combination, i.e. 1 if only x or only y is 1 while the other is 0.\n",
    "        # If x=y, the label is 0.\n",
    "        data = torch.randint(low=0, high=2, size=(self.size, 2), dtype=torch.float32)\n",
    "        label = (data.sum(dim=1) == 1).to(torch.long)\n",
    "\n",
    "        # To make it slightly more challenging, we add a bit of gaussian noise to the data points.\n",
    "        data += self.std * torch.randn(data.shape)\n",
    "\n",
    "        self.data = data\n",
    "        self.label = label\n",
    "\n",
    "    def __len__(self):\n",
    "        # Return the number of data points the data has\n",
    "        return self.size\n",
    "    \n",
    "    def __getitem__(self, idx):\n",
    "        # Return the idx-th data point and label of the dataset\n",
    "        data_point = self.data[idx]\n",
    "        label_point = self.label[idx]\n",
    "        return data_point, label_point"
   ]
  },
  {
   "cell_type": "code",
   "execution_count": 8,
   "metadata": {},
   "outputs": [
    {
     "name": "stdout",
     "output_type": "stream",
     "text": [
      "Size of dataset: 100\n",
      "Data point 10: (tensor([ 1.0422, -0.0087]), tensor(1))\n"
     ]
    }
   ],
   "source": [
    "# create dataset\n",
    "dataset = XORDataset(size=100)\n",
    "print(\"Size of dataset:\", len(dataset))\n",
    "print(\"Data point 10:\", dataset[10])"
   ]
  },
  {
   "cell_type": "code",
   "execution_count": null,
   "metadata": {},
   "outputs": [],
   "source": []
  }
 ],
 "metadata": {
  "kernelspec": {
   "display_name": "Python 3",
   "language": "python",
   "name": "python3"
  },
  "language_info": {
   "codemirror_mode": {
    "name": "ipython",
    "version": 3
   },
   "file_extension": ".py",
   "mimetype": "text/x-python",
   "name": "python",
   "nbconvert_exporter": "python",
   "pygments_lexer": "ipython3",
   "version": "3.11.4"
  }
 },
 "nbformat": 4,
 "nbformat_minor": 2
}
